{
 "metadata": {
  "name": "DontOverfit"
 },
 "nbformat": 3,
 "nbformat_minor": 0,
 "worksheets": [
  {
   "cells": [
    {
     "cell_type": "markdown",
     "metadata": {},
     "source": [
      "## Implementation of Salisman's Don't Overfit submission"
     ]
    },
    {
     "cell_type": "markdown",
     "metadata": {},
     "source": [
      "From [Kaggle](http://www.kaggle.com/c/overfitting)\n",
      ">In order to achieve this we have created a simulated data set with 200 variables and 20,000 cases. An \u2018equation\u2019 based on this data was created in order to generate a Target to be predicted. Given the all 20,000 cases, the problem is very easy to solve \u2013 but you only get given the Target value of 250 cases \u2013 the task is to build a model that gives the best predictions on the remaining 19,750 cases."
     ]
    },
    {
     "cell_type": "code",
     "collapsed": false,
     "input": [
      "import gzip\n",
      "import requests\n",
      "url = \"\"\n",
      "data = requests.get(url)\n",
      "f = gzip.open('file.txt.gz', 'rb')\n",
      "file_content = f.read()\n"
     ],
     "language": "python",
     "metadata": {},
     "outputs": []
    }
   ],
   "metadata": {}
  }
 ]
}