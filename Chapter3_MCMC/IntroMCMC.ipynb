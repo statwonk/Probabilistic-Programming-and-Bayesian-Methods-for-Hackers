{
 "metadata": {
  "name": "IntroMCMC"
 },
 "nbformat": 3,
 "nbformat_minor": 0,
 "worksheets": [
  {
   "cells": [
    {
     "cell_type": "code",
     "collapsed": false,
     "input": [
      "figsize( 9, 3.5 )\n",
      "import scipy.stats as stats"
     ],
     "language": "python",
     "metadata": {},
     "outputs": [],
     "prompt_number": 1
    },
    {
     "cell_type": "markdown",
     "metadata": {},
     "source": [
      "This should be a brief intro to what MCMC is, framed in words like *convergence*, *iterations*, *being fit to the data*, *learning*. The chapter should introduce:\n",
      "\n",
      "- MCMC convergence + some diagnogstics\n",
      "- Matplot.plot\n",
      "- MAP (and how to estimate it) (maybe move this to another section)\n",
      "- mcmc.sample()\n",
      "- mcmc.trace() use\n",
      "- map.fit()\n"
     ]
    },
    {
     "cell_type": "markdown",
     "metadata": {},
     "source": [
      "# Chapter 3\n",
      "## Opening the black box of MCMC\n",
      "\n",
      "_______"
     ]
    },
    {
     "cell_type": "markdown",
     "metadata": {},
     "source": [
      "The previous two chapters hide the inner-mechanics of PyMC, and Monte Carlo Markov Chains (MCMC) more generally, from the reader. This was not a slight against the reader's intelligence. Simpley, it is not absolutely necessary to know. After all, my computer has an internal kernel, compiler, and RAM that I haven't the slightest idea how they work. But I can still work on my computer just fine. \n",
      "\n",
      "The reason for including this chapter is three-fold. The first is that any book on Bayesian inference must discuss MCMC. I cannot fight this. Blame the statisticians. Secondly, knowing the process of MCMC gives you insight into whether your algorithm has converged. (Converged to what? We will get to that) Thirdly, we understand *why* we receive samples from the positerior as a result, which is quite a strange result at first. "
     ]
    },
    {
     "cell_type": "markdown",
     "metadata": {},
     "source": [
      "## Setting up a model\n",
      "\n",
      "Likely the most common statistical task is estimating the frequency of events. The frequency of events like baseball home runs, car accidents, computer failures etc. are common requests we ask of Nature. Of course, with our finite information about the world we must *infer* the true frequencies, and can never see it directly. For example, returning to an example in the first chapter, there is a true probability of airplane failures. It is *not*, as one would likely initially guess, *equal* to the observed frequencies of airplane crashes over all airplane flights. This is because for many values of the true underlying flight-accident probability, the observed frequency of accidents can occur. To make this more formal, we introduce the *binomial distribution*.\n",
      "\n",
      "### The Binomial Distribution\n",
      "\n",
      "The binomial distribution is one of the most popular distributions because of it's simplicity and usefulness. Unlike the other distributions we have encountered thus far in the book, the binomial distribution has 2 parameters: $N$, a positive integer representing $N$ trials, and $p$, the probability of an event occuring in a trial. Like the Poisson distribution, it is a discrete distribution, but unlike the Poisson distribution, it only weighs integers from $0$ to $N$. The mass distribution looks like:\n",
      "\n",
      "$$P( X = k ) =  {{N}\\choose{k}}  p^k(1-p)^{N-k}$$\n",
      "\n",
      "If $X$ is a binomial random variable with parameter $p$ and $N$, denoted $X \\sim \\text{Bin}(N,p)$, then $X$ is the number of events that occured in the $N$ trials. The larger $p$ is (while still remaining between 0 and 1), the more events are likely to occur. \n",
      "\n",
      "The expected value of a binomial is equal to $Np$. Below we plot the mass probability distribution for varying parameters. \n"
     ]
    },
    {
     "cell_type": "code",
     "collapsed": false,
     "input": [
      "binomial = stats.binom\n",
      "\n",
      "parameters = [ (10, .3) , (10, .9) ]  \n",
      "colors = [\"#348ABD\", \"#A60628\", \"#7A68A6\"]\n",
      "\n",
      "for i in range(2):\n",
      "    N, p = parameters[i]\n",
      "    _x = np.arange( N+1 )\n",
      "    plt.bar( _x - 0.5,  binomial.pmf( _x, N, p ), color = colors[i], \n",
      "             alpha = 0.6, label = \"$N$: %d, $p$: %.1f\"%(N,p))\n",
      "    \n",
      "\n",
      "plt.legend(loc=\"upper left\")\n",
      "plt.xlim(0, 10.5)\n",
      "plt.xlabel(\"$k$\")\n",
      "plt.ylabel(\"$P(X = k)$\")\n",
      "plt.title(\"Probability mass distributions of binomial random variables\")"
     ],
     "language": "python",
     "metadata": {},
     "outputs": [
      {
       "output_type": "pyout",
       "prompt_number": 2,
       "text": [
        "<matplotlib.text.Text at 0x5d63810>"
       ]
      },
      {
       "output_type": "display_data",
       "png": "[encoded data removed]"
      }
     ],
     "prompt_number": 2
    },
    {
     "cell_type": "markdown",
     "metadata": {},
     "source": [
      "Often we can phrase our queries in the context of a binomial model. For example, if $N$ is the number of plane accidents, and $p$ is the true probability of plane accidents, then we observe $X$ number of plane accidents. Below is some flight data, from different North American airlines:"
     ]
    },
    {
     "cell_type": "code",
     "collapsed": false,
     "input": [
      "\n",
      "number_of_flights = [4.37, 2.60, 5.08, 16.51, 11.1, 4.86, \n",
      "                    12.39, 16.03, 1.25, 1.62, 18.15, 12.87, \n",
      "                    11.50, 11.91, 1.30] #in millions \n",
      "number_of_accidents = [0,1,1,5,4,2,4,1,0,0,0,3,2,3,0]\n"
     ],
     "language": "python",
     "metadata": {},
     "outputs": [],
     "prompt_number": 3
    },
    {
     "cell_type": "markdown",
     "metadata": {},
     "source": [
      "Above, we have the observed data $X$, and we have different $N$ values, and our hypothesis is that there is an underlying $p$, the true probability of flight accidents. Likely the probability is very small, but let's assume a uniform prior on $p$.  We setup a simple PyMC model:"
     ]
    },
    {
     "cell_type": "code",
     "collapsed": false,
     "input": [
      "import pymc as mc\n",
      "\n",
      "p = mc.Uniform( \"p\", 0, 1 )\n",
      "\n",
      "obs = mc.Binomial( \"observations\", number_of_flights, p,\n",
      "    value = number_of_accidents, observed = True)"
     ],
     "language": "python",
     "metadata": {},
     "outputs": [],
     "prompt_number": 4
    },
    {
     "cell_type": "code",
     "collapsed": false,
     "input": [
      "model = mc.Model( [p, obs] )"
     ],
     "language": "python",
     "metadata": {},
     "outputs": [],
     "prompt_number": 5
    },
    {
     "cell_type": "code",
     "collapsed": false,
     "input": [
      "mcmc = mc.MCMC( model )"
     ],
     "language": "python",
     "metadata": {},
     "outputs": [],
     "prompt_number": "*"
    },
    {
     "cell_type": "code",
     "collapsed": false,
     "input": [],
     "language": "python",
     "metadata": {},
     "outputs": []
    }
   ],
   "metadata": {}
  }
 ]
}