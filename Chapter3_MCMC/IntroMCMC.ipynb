{
 "metadata": {
  "name": "IntroMCMC"
 },
 "nbformat": 3,
 "nbformat_minor": 0,
 "worksheets": [
  {
   "cells": [
    {
     "cell_type": "markdown",
     "metadata": {},
     "source": [
      "<style>\n",
      "    @font-face {\n",
      "        font-family: \"Computer Modern\";\n",
      "        src: url('http://mirrors.ctan.org/fonts/cm-unicode/fonts/otf/cmunss.otf');\n",
      "    }\n",
      "    div.cell{\n",
      "        width:800px;\n",
      "        margin-left:auto;\n",
      "        margin-right:auto;\n",
      "    }\n",
      "    h1 {\n",
      "        text-align:center;\n",
      "        font-family:\"Charis SIL\", serif;\n",
      "    }\n",
      "    div.text_cell_render{\n",
      "        font-family: Computer Modern, \"Helvetica Neue\", Arial, Helvetica, Geneva, sans-serif;\n",
      "        line-height: 145%;\n",
      "        font-size: 120%;\n",
      "        width:800px;\n",
      "        margin-left:auto;\n",
      "        margin-right:auto;\n",
      "    }\n",
      "    .CodeMirror{\n",
      "            font-family: Consolas, monospace;\n",
      "    }\n",
      "    .prompt{\n",
      "        display: None;\n",
      "    }\n",
      "</style>\n",
      "<script>\n",
      "    MathJax.Hub.Config({\n",
      "                        TeX: {\n",
      "                           extensions: [\"AMSmath.js\"]\n",
      "                           },\n",
      "                tex2jax: {\n",
      "                    inlineMath: [ ['$','$'], [\"\\\\(\",\"\\\\)\"] ],\n",
      "                    displayMath: [ ['$$','$$'], [\"\\\\[\",\"\\\\]\"] ]\n",
      "                },\n",
      "                displayAlign: 'center', // Change this to 'center' to center equations.\n",
      "                \"HTML-CSS\": {\n",
      "                    styles: {'.MathJax_Display': {\"margin\": 4}}\n",
      "                }\n",
      "        });\n",
      "</script>"
     ]
    },
    {
     "cell_type": "code",
     "collapsed": false,
     "input": [
      "figsize( 12, 4 )\n",
      "import scipy.stats as stats"
     ],
     "language": "python",
     "metadata": {},
     "outputs": [],
     "prompt_number": 34
    },
    {
     "cell_type": "markdown",
     "metadata": {},
     "source": [
      "This should be a brief intro to what MCMC is, framed in words like *convergence*, *iterations*, *being fit to the data*, *learning*. The chapter should introduce:\n",
      "\n",
      "- MCMC convergence + some diagnogstics\n",
      "- Matplot.plot\n",
      "- MAP (and how to estimate it) (maybe move this to another section)\n",
      "- mcmc.sample()\n",
      "- mcmc.trace() use\n",
      "- map.fit()\n"
     ]
    },
    {
     "cell_type": "markdown",
     "metadata": {},
     "source": [
      "# Chapter 3\n",
      "\n",
      "\n",
      "_______\n",
      "\n",
      "## Opening the black box of MCMC"
     ]
    },
    {
     "cell_type": "markdown",
     "metadata": {},
     "source": [
      "The previous two chapters hide the inner-mechanics of PyMC, and Monte Carlo Markov Chains (MCMC) more generally, from the reader. This was not a slight against the reader's intelligence. Simpley, it is not absolutely necessary to know. After all, my computer has an internal kernel, compiler, and RAM that I haven't the slightest idea how they work. But I can still work on my computer just fine. \n",
      "\n",
      "The reason for including this chapter is three-fold. The first is that any book on Bayesian inference must discuss MCMC. I cannot fight this. Blame the statisticians. Secondly, knowing the process of MCMC gives you insight into whether your algorithm has converged. (Converged to what? We will get to that) Thirdly, we understand *why* we receive samples from the positerior as a result, which is quite a strange result at first. "
     ]
    },
    {
     "cell_type": "markdown",
     "metadata": {},
     "source": [
      "## Setting up a model\n",
      "\n",
      "Likely the most common statistical task is estimating the frequency of events. The frequency of events like baseball home runs, car accidents, computer failures etc. are common requests we ask of Nature. Unfortunately because of our finite information about the world we must *infer* the true frequencies, and can never observe it directly. For example, consider a polling dataset from the 2008 US presidential election. It was the 9th inning in the Obama vs. McCain election, as the lastest Gallup poll showed [1], out of 2897 respondents, Obama had 1616 supporters. One can say that the \"observed frequency\" of Obama supporters was 1616/2897 $\\approx$ .558. Keeping in mind though, that this number is **not** the *true, unobserved, frequency* of Obama supporters, call it $p$. This is because for many values of $p$, it is possible to observe 1616 Obama supporters.  \n",
      "\n",
      "### The Binomial Distribution\n",
      "\n",
      "The binomial distribution is one of the most popular distributions, mostly because of it's simplicity and usefulness. Unlike the other distributions we have encountered thus far in the book, the binomial distribution has 2 parameters: $N$, a positive integer representing $N$ trials, and $p$, the probability of an event occuring in a trial. Like the Poisson distribution, it is a discrete distribution, but unlike the Poisson distribution, it only weighs integers from $0$ to $N$. The mass distribution looks like:\n",
      "\n",
      "$$P( X = k ) =  {{N}\\choose{k}}  p^k(1-p)^{N-k}$$\n",
      "\n",
      "If $X$ is a binomial random variable with parameter $p$ and $N$, denoted $X \\sim \\text{Bin}(N,p)$, then $X$ is the number of events that occured in the $N$ trials. The larger $p$ is (while still remaining between 0 and 1), the more events are likely to occur. \n",
      "\n",
      "The expected value of a binomial is equal to $Np$. Below we plot the mass probability distribution for varying parameters. \n"
     ]
    },
    {
     "cell_type": "code",
     "collapsed": false,
     "input": [
      "binomial = stats.binom\n",
      "\n",
      "parameters = [ (10, .3) , (10, .9) ]  \n",
      "colors = [\"#348ABD\", \"#A60628\", \"#7A68A6\"]\n",
      "\n",
      "for i in range(2):\n",
      "    N, p = parameters[i]\n",
      "    _x = np.arange( N+1 )\n",
      "    plt.bar( _x - 0.5,  binomial.pmf( _x, N, p ), color = colors[i], \n",
      "             alpha = 0.6, label = \"$N$: %d, $p$: %.1f\"%(N,p))\n",
      "    \n",
      "\n",
      "plt.legend(loc=\"upper left\")\n",
      "plt.xlim(0, 10.5)\n",
      "plt.xlabel(\"$k$\")\n",
      "plt.ylabel(\"$P(X = k)$\")\n",
      "plt.title(\"Probability mass distributions of binomial random variables\")"
     ],
     "language": "python",
     "metadata": {},
     "outputs": [
      {
       "output_type": "pyout",
       "prompt_number": 3,
       "text": [
        "<matplotlib.text.Text at 0x1411a5f8>"
       ]
      },
      {
       "output_type": "display_data",
       "png": "[encoded data removed]"
      }
     ],
     "prompt_number": 3
    },
    {
     "cell_type": "markdown",
     "metadata": {},
     "source": [
      "-----------\n",
      "### Example: Cheating dataset\n",
      "\n",
      "We will use the binomial distribution to determine the frequency of student cheating during an exam. If we let $N$ be the total number of students who took the exam, and assuming each student is interviewed (without consequence) and we recieve $X$ \"Yes I did cheat\" answers, then we need to find the posterior distribution of $p$, given $N$, a prior on $p$, and observed data $X$. \n",
      "\n",
      "This is a completely unrealistic model though. No student, even with a free pass, would admit to cheating. What we need is a better scheme to ask students. The following proposed scheme is a solution I greatly admire for its inenginuity and effectivness. The scheme is as follows:\n",
      "\n",
      "> In the interview process for each student, the student flips a coin, hidden from the interviewer. The student agrees to answer honestly if the coin comes up heads. Otherwise, if the coin is tails, the student flips the coin (secretly) again, and answer \"Yes I did cheat\" if the coin flip lands heads, and \"No I did not cheat\", if the coin flip lands tails. This way, the interviewer does not know where a \"Yes\" was the result of a guilty plea or a Heads on a second toss. Thus privacy is preserved and the researchers receive honest answers. \n",
      "\n",
      "One could of course argue with the last statement above and say the interviewers are receiving false data, but more accuratly they are losing approximately half of there original dataset. They have gained though a systematic data generation process that can be modeled. Furthermore, they do not have to incorporate (perhaps somewhat naively) the possibility of deceitful answers. We can use PyMC to dig through this model, and easily find a posterior distribution for the true frequency of liars. \n",
      "\n",
      "\n",
      "To begin modelling this in PyMC, we first need a prior on $p$, the frequency of cheaters in the exam.  We will be naive and suppose a uniform prior on [0,1]. "
     ]
    },
    {
     "cell_type": "code",
     "collapsed": false,
     "input": [
      "import pymc as mc\n",
      "\n",
      "N = 100\n",
      "\n",
      "p = mc.Uniform( \"freq_cheating\", 0, 1) "
     ],
     "language": "python",
     "metadata": {},
     "outputs": [],
     "prompt_number": 62
    },
    {
     "cell_type": "markdown",
     "metadata": {},
     "source": [
      "In our data-generation model, we imagine some higher-power picks $p$ randomly from [0,1].\n",
      "\n",
      "Next we need a dataset. Suppose 25 students took the test, and after performing our coin-flip skewed interviews we received 10 \"Yes\". To put this into a relative context, if there truely were no cheaters, we should expect to see on average 1/4 of all responses being a \"Yes\" (half chance of having first coin land Tails, and another 1/2 chance of having second coin land Heads). On the other hand, if *all students cheated*, we should expected to see on approximately 3/4 of all response be \"Yes\". In fact, given a value for $p$ (which from our god-like position we know), we can find the probability the student will answer yes: \n",
      "\n",
      "\\begin{align}\n",
      "P(\\text{\"Yes\"}) = & P( \\text{Heads on first coin} )P( \\text{cheater} ) + P( \\text{Tails on first coin} )P( \\text{Heads on second coin} ) \\\\\\\\\n",
      "& = \\frac{1}{2}p + \\frac{1}{2}\\frac{1}{2}\\\\\\\\\n",
      "& = \\frac{p}{2} + \\frac{1}{4}\n",
      "\\end{align}\n",
      "\n",
      "Thus, knowing $p$ we know the probability a student will respond \"Yes\". In PyMC, we can create a deterministic function (see above if unclear on why a determinsitic function can return a probability) to evaluate this new probability of responding \"Yes\":"
     ]
    },
    {
     "cell_type": "code",
     "collapsed": false,
     "input": [
      "@mc.deterministic\n",
      "def p_skewed( p =  p ):\n",
      "    return 0.5*p + 0.25"
     ],
     "language": "python",
     "metadata": {},
     "outputs": [],
     "prompt_number": 63
    },
    {
     "cell_type": "markdown",
     "metadata": {},
     "source": [
      "Of course, I could have typed `p_skewed  = 0.5*p + 0.25` instead for a one-liner, as the elementary operations of plus and scalar multiplication will implicity create a `deterministic` variable, but I wanted to make the deterministic notation explicit for clarity's sake. \n",
      "\n",
      "So, if we know the probability of respondents saying \"Yes\", and we have $N=25$ students, the number of \"Yes\" responses is a binomial with paramters `N` and `p_skewed`.\n",
      "\n",
      "This is were we include our data. We actually observed 10 \"Yes\" responses. So in the declaration of the `mc.Binomial`, we include `value = 10` and `observed = True`."
     ]
    },
    {
     "cell_type": "code",
     "collapsed": false,
     "input": [
      "yes_responses = mc.Binomial( \"number_cheaters\", N, p_skewed, value = 0, observed = True )"
     ],
     "language": "python",
     "metadata": {},
     "outputs": [],
     "prompt_number": 64
    },
    {
     "cell_type": "markdown",
     "metadata": {},
     "source": [
      "Below we add all the variables of interest to a `Model` container and run our black-box algorithm over the model. "
     ]
    },
    {
     "cell_type": "code",
     "collapsed": false,
     "input": [
      "model = mc.Model( [yes_responses, p_skewed, p ] )\n",
      "mcmc = mc.MCMC(model)\n",
      "mcmc.sample( 20000, 7500 )\n",
      "\n",
      "p_trace = mcmc.trace(\"freq_cheating\")[:]"
     ],
     "language": "python",
     "metadata": {},
     "outputs": [
      {
       "output_type": "stream",
       "stream": "stdout",
       "text": [
        " \r",
        "[****************100%******************]  20000 of 20000 complete"
       ]
      },
      {
       "output_type": "stream",
       "stream": "stdout",
       "text": [
        "\n"
       ]
      }
     ],
     "prompt_number": 65
    },
    {
     "cell_type": "code",
     "collapsed": false,
     "input": [
      "\n",
      "plt.plot( [0,1], [1,1], color = \"#A60628\", alpha = 0.3, label = \"prior distribution of $p$\"  )\n",
      "plt.fill_between( [0,1], [0,0],[1,1], color = \"#A60628\",\n",
      "     alpha = 0.3,label = \"prior distribution of $p$\")\n",
      "plt.hist( p_trace, histtype=\"stepfilled\" , normed = True, \n",
      "    alpha = 0.85, bins = 30, label = \"posterior distribution\",\n",
      "    color = \"#348ABD\")\n",
      "print\n",
      "plt.xlim(0,1)\n",
      "plt.legend()"
     ],
     "language": "python",
     "metadata": {},
     "outputs": [
      {
       "output_type": "stream",
       "stream": "stdout",
       "text": [
        "\n"
       ]
      },
      {
       "output_type": "pyout",
       "prompt_number": 66,
       "text": [
        "<matplotlib.legend.Legend at 0xd1fd590>"
       ]
      },
      {
       "output_type": "display_data",
       "png": "[encoded data removed]"
      }
     ],
     "prompt_number": 66
    },
    {
     "cell_type": "code",
     "collapsed": false,
     "input": [],
     "language": "python",
     "metadata": {},
     "outputs": [],
     "prompt_number": 7
    },
    {
     "cell_type": "markdown",
     "metadata": {},
     "source": [
      "### References\n",
      "\n",
      "1.   Newport, Frank, Jeffery M. Jones, and Lydia Saad . \"Final Presidential Estimate.\" Gallup.com. N.p., 02 Nov 2008. Web. 17 Feb 2013. [http://www.gallup.com/poll/111703/Final-Presidential-Estimate-Obama-55-McCain-44.asp&xgt](http://www.gallup.com/poll/111703/Final-Presidential-Estimate-Obama-55-McCain-44.asp&xgt);.  "
     ]
    },
    {
     "cell_type": "code",
     "collapsed": false,
     "input": [],
     "language": "python",
     "metadata": {},
     "outputs": []
    }
   ],
   "metadata": {}
  }
 ]
}