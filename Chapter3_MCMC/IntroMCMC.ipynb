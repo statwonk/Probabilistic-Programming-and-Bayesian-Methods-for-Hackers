{
 "metadata": {
  "name": "IntroMCMC"
 },
 "nbformat": 3,
 "nbformat_minor": 0,
 "worksheets": [
  {
   "cells": [
    {
     "cell_type": "markdown",
     "metadata": {},
     "source": [
      "This should be a brief intro to what MCMC is, framed in words like *convergence*, *iterations*, *being fit to the data*, *learning*. The chapter should introduce:\n",
      "\n",
      "- MCMC convergence + some diagnogstics\n",
      "- Matplot.plot\n",
      "- MAP (and how to estimate it) (maybe move this to another section)\n",
      "- mcmc.sample()\n",
      "- mcmc.trace() use\n",
      "- map.fit()\n"
     ]
    },
    {
     "cell_type": "code",
     "collapsed": false,
     "input": [],
     "language": "python",
     "metadata": {},
     "outputs": []
    }
   ],
   "metadata": {}
  }
 ]
}